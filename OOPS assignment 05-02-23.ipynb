{
 "cells": [
  {
   "cell_type": "markdown",
   "id": "dbdf7477-97a3-4ba1-a54b-d79759415ce9",
   "metadata": {},
   "source": [
    "## OOPS ASSIGNMENT"
   ]
  },
  {
   "cell_type": "markdown",
   "id": "d9ff28c6-c8f5-4523-83e2-f9c58f9721c1",
   "metadata": {},
   "source": [
    "Q1. Explain Class and Object with respect to Object-Oriented Programming. Give a suitable example."
   ]
  },
  {
   "cell_type": "markdown",
   "id": "a2cb9321-5cac-417c-b227-384310061f06",
   "metadata": {},
   "source": [
    "#ANSWER 1"
   ]
  },
  {
   "cell_type": "markdown",
   "id": "6a53630a-9420-406a-9d12-4bd69716d556",
   "metadata": {},
   "source": [
    "In object-oriented programming (OOP), a class is a blueprint or template for creating objects, which defines the properties (attributes) and behaviors (methods) of the objects. An object is an instance of a class, which has its own state (values of its attributes) and behavior (methods that it can perform).\n",
    "\n",
    "In Python, a class is defined using the \"class\" keyword, followed by the name of the class, and a colon. The properties and behaviors of the class are defined within the class block, using methods and attributes."
   ]
  },
  {
   "cell_type": "markdown",
   "id": "780bfce5-ad23-40cc-95fb-7295ea97afc8",
   "metadata": {},
   "source": [
    "example:"
   ]
  },
  {
   "cell_type": "code",
   "execution_count": 19,
   "id": "616df173-ab40-492a-907f-e0061d1475a7",
   "metadata": {},
   "outputs": [],
   "source": [
    "class sirsschool:\n",
    "    def __init__(self,phone_no,email_id,student_id):\n",
    "        self.phone_no=phone_no\n",
    "        self.email_id=email_id\n",
    "        self.student_id=student_id\n",
    "        \n",
    "    def return_student_details(self):\n",
    "        return self.phone_no,self.email_id,self.student_id"
   ]
  },
  {
   "cell_type": "code",
   "execution_count": 20,
   "id": "f8ff1469-5c65-4e1f-8ea4-ed121b863883",
   "metadata": {},
   "outputs": [],
   "source": [
    "sushmit=sirsschool(8494847744,\"susmith@gmail.com\",777)"
   ]
  },
  {
   "cell_type": "code",
   "execution_count": 22,
   "id": "141a20d5-b3f7-4fe2-93a0-9e20d93eab50",
   "metadata": {},
   "outputs": [
    {
     "data": {
      "text/plain": [
       "8494847744"
      ]
     },
     "execution_count": 22,
     "metadata": {},
     "output_type": "execute_result"
    }
   ],
   "source": [
    "sushmit.phone_no"
   ]
  },
  {
   "cell_type": "code",
   "execution_count": 23,
   "id": "d2e5b277-84f1-4cc3-818e-4c7d73838ae4",
   "metadata": {},
   "outputs": [
    {
     "data": {
      "text/plain": [
       "'susmith@gmail.com'"
      ]
     },
     "execution_count": 23,
     "metadata": {},
     "output_type": "execute_result"
    }
   ],
   "source": [
    "sushmit.email_id"
   ]
  },
  {
   "cell_type": "code",
   "execution_count": 24,
   "id": "a325a761-6443-49ee-b271-f935841d148c",
   "metadata": {},
   "outputs": [
    {
     "data": {
      "text/plain": [
       "777"
      ]
     },
     "execution_count": 24,
     "metadata": {},
     "output_type": "execute_result"
    }
   ],
   "source": [
    "sushmit.student_id"
   ]
  },
  {
   "cell_type": "markdown",
   "id": "d5759139-4bb9-4933-9589-ccd2a53c8ac8",
   "metadata": {},
   "source": [
    "Q2. Name the four pillars of OOPs."
   ]
  },
  {
   "cell_type": "markdown",
   "id": "a9deaed8-4a91-49ce-af4d-8a70a225958f",
   "metadata": {},
   "source": [
    "#ANSWER 2"
   ]
  },
  {
   "cell_type": "markdown",
   "id": "a808d9dd-833a-4205-b2a8-b0a63a2ebbb5",
   "metadata": {},
   "source": [
    "The four pillars of object-oriented programming (OOP) are:\n",
    "\n",
    "Encapsulation: Encapsulation refers to the bundling of data and methods that operate on that data within a single unit or object, and restricting access to the data from outside the object. It helps to keep the data and methods secure and maintainable.\n",
    "\n",
    "Inheritance: Inheritance is the ability of a class to inherit properties and methods from a parent class. It allows the creation of a new class that is a modified version of an existing class, without having to rewrite the code for the existing class.\n",
    "\n",
    "Polymorphism: Polymorphism is the ability of objects to take on different forms or behaviors based on their context. It allows different objects to be treated as if they were of the same type, and enables the creation of flexible and reusable code.\n",
    "\n",
    "Abstraction: Abstraction refers to the process of hiding implementation details and presenting only the essential features of an object or class. It allows programmers to focus on the essential properties and behaviors of an object, without getting bogged down in unnecessary details."
   ]
  },
  {
   "cell_type": "markdown",
   "id": "b34e7e1a-3ed1-4928-b76d-23791dd81f65",
   "metadata": {},
   "source": [
    "Q3. Explain why the __init__() function is used. Give a suitable example."
   ]
  },
  {
   "cell_type": "markdown",
   "id": "5f347e20-74b0-4de2-872a-2f90fcce1bdc",
   "metadata": {},
   "source": [
    "#ANSWER 3"
   ]
  },
  {
   "cell_type": "markdown",
   "id": "6aba7324-aad7-453a-8b76-f5933fe87537",
   "metadata": {},
   "source": [
    "In object-oriented programming, the __init__() function is a special method that is called when an object is created from a class. It is used to initialize the attributes of the object and perform any other setup or configuration that is needed.\n",
    "\n",
    "The __init__() method is called a constructor because it constructs or creates the object. It takes the object itself (usually referred to as self) as its first argument, and any additional arguments that are needed to initialize the object's attributes."
   ]
  },
  {
   "cell_type": "code",
   "execution_count": 25,
   "id": "eebcfd51-815e-48d4-9281-1afa77a0f016",
   "metadata": {},
   "outputs": [],
   "source": [
    "class person:\n",
    "    def __init__(self,name,age):\n",
    "        self.name=name\n",
    "        self.age=age\n",
    "    def greet(self):\n",
    "        print(\"my name is {} and age is {} \".format(self.name,self.age))"
   ]
  },
  {
   "cell_type": "code",
   "execution_count": 26,
   "id": "96de6b3e-9bb4-406f-841b-55dc88e2da00",
   "metadata": {},
   "outputs": [],
   "source": [
    "me=person(\"sush\",27)"
   ]
  },
  {
   "cell_type": "code",
   "execution_count": 27,
   "id": "50ce5f7f-6f7e-45b8-a470-cb37b7658787",
   "metadata": {},
   "outputs": [
    {
     "data": {
      "text/plain": [
       "'sush'"
      ]
     },
     "execution_count": 27,
     "metadata": {},
     "output_type": "execute_result"
    }
   ],
   "source": [
    "me.name"
   ]
  },
  {
   "cell_type": "code",
   "execution_count": 28,
   "id": "db3002a0-d719-44dc-9936-97ffeca16ee4",
   "metadata": {},
   "outputs": [
    {
     "data": {
      "text/plain": [
       "27"
      ]
     },
     "execution_count": 28,
     "metadata": {},
     "output_type": "execute_result"
    }
   ],
   "source": [
    "me.age"
   ]
  },
  {
   "cell_type": "markdown",
   "id": "2fd3934b-83da-40ee-86c3-08b005f3752d",
   "metadata": {},
   "source": [
    "Q4. Why self is used in OOPs?"
   ]
  },
  {
   "cell_type": "markdown",
   "id": "7cec0b3b-69b9-44f1-a8da-83329ddb603d",
   "metadata": {},
   "source": [
    "#ANSWER 4"
   ]
  },
  {
   "cell_type": "markdown",
   "id": "53b450e3-c116-4e63-ae7a-1b73f819b353",
   "metadata": {},
   "source": [
    "In object-oriented programming (OOP), self is a reference to the object that the method or attribute belongs to. It is used to access the object's attributes and methods from within the object itself.\n",
    "\n",
    "When a method is called on an object, the object is automatically passed as the first argument to the method, and this argument is conventionally named self. This allows the method to access the object's attributes and methods using the dot notation, and to modify the object's state if necessary."
   ]
  },
  {
   "cell_type": "markdown",
   "id": "ab5f83a6-7a56-4e97-9f64-015ef3eb24c6",
   "metadata": {},
   "source": [
    "Q5. What is inheritance? Give an example for each type of inheritance."
   ]
  },
  {
   "cell_type": "markdown",
   "id": "131ef6fb-1fc3-48e0-8d87-a27a1034906d",
   "metadata": {},
   "source": [
    "#ANSWER 5"
   ]
  },
  {
   "cell_type": "markdown",
   "id": "102ff7b1-ef27-4948-a904-9f8c165ae077",
   "metadata": {},
   "source": [
    "In object-oriented programming, inheritance is a mechanism by which a new class is created that is a modified version of an existing class. The new class inherits the attributes and methods of the existing class, and can add or modify its own attributes and methods as needed.\n",
    "\n",
    "There are three main types of inheritance:\n",
    "\n",
    "Single inheritance: In single inheritance, a new class is created that inherits from a single parent class. This is the most common type of inheritance."
   ]
  },
  {
   "cell_type": "code",
   "execution_count": 45,
   "id": "5ceab400-f691-4143-9004-f3f3cff6ab23",
   "metadata": {},
   "outputs": [],
   "source": [
    "class Animal:\n",
    "    def move(self):\n",
    "        print(\"Moving\")\n",
    "\n",
    "class Dog(Animal):\n",
    "    def bark(self):\n",
    "        print(\"Barking\")\n"
   ]
  },
  {
   "cell_type": "code",
   "execution_count": 54,
   "id": "6b1fd0a0-adef-4534-a7d6-88e6a1fbc243",
   "metadata": {},
   "outputs": [],
   "source": [
    "zoo=Dog()"
   ]
  },
  {
   "cell_type": "code",
   "execution_count": 55,
   "id": "48696c47-b4c2-448f-a465-125f386c4c92",
   "metadata": {},
   "outputs": [
    {
     "name": "stdout",
     "output_type": "stream",
     "text": [
      "Barking\n"
     ]
    }
   ],
   "source": [
    "zoo.bark()"
   ]
  },
  {
   "cell_type": "code",
   "execution_count": 56,
   "id": "c1e56bea-25e4-4018-87e2-0f91dd17041c",
   "metadata": {},
   "outputs": [
    {
     "name": "stdout",
     "output_type": "stream",
     "text": [
      "Moving\n"
     ]
    }
   ],
   "source": [
    "zoo.move()"
   ]
  },
  {
   "cell_type": "markdown",
   "id": "ec434212-8df4-4e31-bfe8-a1ce6b5c7d9d",
   "metadata": {},
   "source": [
    "Multiple inheritance: In multiple inheritance, a subclass inherits properties and methods from multiple superclasses. This allows for greater code reuse, but can also lead to more complex and harder-to-maintain code.\n"
   ]
  },
  {
   "cell_type": "code",
   "execution_count": 63,
   "id": "2e87e245-6a1b-4280-8854-13e14ed6d2b7",
   "metadata": {},
   "outputs": [],
   "source": [
    "class anime:\n",
    "    def onepiece(self):\n",
    "        print(\"monkey D.luffy\")\n",
    "\n",
    "class avengers:\n",
    "    def iron_man(self):\n",
    "        print(\"iron man is the best\")\n",
    "\n",
    "class demon_slayers(anime, avengers):\n",
    "    def hasira(self):\n",
    "        print(\"flame hasira\")\n"
   ]
  },
  {
   "cell_type": "code",
   "execution_count": 65,
   "id": "0544dc6b-eabd-48ed-b68d-6fb4072211cd",
   "metadata": {},
   "outputs": [],
   "source": [
    "collection=demon_slayers()"
   ]
  },
  {
   "cell_type": "code",
   "execution_count": 67,
   "id": "9b4d4b94-7949-4610-9d74-422812bff128",
   "metadata": {},
   "outputs": [
    {
     "name": "stdout",
     "output_type": "stream",
     "text": [
      "monkey D.luffy\n"
     ]
    }
   ],
   "source": [
    "collection.onepiece()"
   ]
  },
  {
   "cell_type": "code",
   "execution_count": 68,
   "id": "de03b172-5b14-4e61-85c9-107b57c095dc",
   "metadata": {},
   "outputs": [
    {
     "name": "stdout",
     "output_type": "stream",
     "text": [
      "iron man is the best\n"
     ]
    }
   ],
   "source": [
    "collection.iron_man()"
   ]
  },
  {
   "cell_type": "code",
   "execution_count": 69,
   "id": "212508dd-1ffc-4b15-84b4-0ae90eb23f93",
   "metadata": {},
   "outputs": [
    {
     "name": "stdout",
     "output_type": "stream",
     "text": [
      "flame hasira\n"
     ]
    }
   ],
   "source": [
    "collection.hasira()"
   ]
  },
  {
   "cell_type": "markdown",
   "id": "027b8c1d-07dd-4db8-9bfd-d9666db027e3",
   "metadata": {},
   "source": [
    "Multilevel inheritance: In multilevel inheritance, a subclass inherits properties and methods from a superclass, which itself inherits from another superclass. This allows for a hierarchy of classes with increasing levels of specialization."
   ]
  },
  {
   "cell_type": "code",
   "execution_count": 70,
   "id": "cfb07c30-e80a-46ee-b331-ec3057a4ef52",
   "metadata": {},
   "outputs": [],
   "source": [
    "class class1 :\n",
    "    def test_class1(self) : \n",
    "        print(\"this is my class1 \" )"
   ]
  },
  {
   "cell_type": "code",
   "execution_count": 71,
   "id": "a1f4786a-de30-490c-8e12-79f76d3af7e5",
   "metadata": {},
   "outputs": [],
   "source": [
    "class class2(class1) : \n",
    "    def test_class2(self) : \n",
    "        print(\"this is my class2\" )"
   ]
  },
  {
   "cell_type": "code",
   "execution_count": 72,
   "id": "6ff41f1f-cd8f-4788-997b-f7fa5de4e45d",
   "metadata": {},
   "outputs": [],
   "source": [
    "class class3(class2) : \n",
    "    def test_class3(self) : \n",
    "        print(\"this is my class3 \")"
   ]
  },
  {
   "cell_type": "code",
   "execution_count": 73,
   "id": "36b2059a-79c4-4769-a682-433d99ffdb69",
   "metadata": {},
   "outputs": [],
   "source": [
    "store=class3()"
   ]
  },
  {
   "cell_type": "code",
   "execution_count": 74,
   "id": "e7f3011f-c903-4897-935c-b6c874db9a75",
   "metadata": {},
   "outputs": [
    {
     "name": "stdout",
     "output_type": "stream",
     "text": [
      "this is my class1 \n"
     ]
    }
   ],
   "source": [
    "store.test_class1()"
   ]
  },
  {
   "cell_type": "code",
   "execution_count": 75,
   "id": "057fd41d-d09d-4f53-b0a7-1f2fea869d7c",
   "metadata": {},
   "outputs": [
    {
     "name": "stdout",
     "output_type": "stream",
     "text": [
      "this is my class2\n"
     ]
    }
   ],
   "source": [
    "store.test_class2()"
   ]
  },
  {
   "cell_type": "code",
   "execution_count": 76,
   "id": "5fd6a5d5-cb82-41ed-8c2f-0537e6dbd2eb",
   "metadata": {},
   "outputs": [
    {
     "name": "stdout",
     "output_type": "stream",
     "text": [
      "this is my class3 \n"
     ]
    }
   ],
   "source": [
    "store.test_class3()"
   ]
  },
  {
   "cell_type": "code",
   "execution_count": null,
   "id": "9cdd9295-3ba6-4338-bd9b-956a3787bffc",
   "metadata": {},
   "outputs": [],
   "source": []
  }
 ],
 "metadata": {
  "kernelspec": {
   "display_name": "Python 3 (ipykernel)",
   "language": "python",
   "name": "python3"
  },
  "language_info": {
   "codemirror_mode": {
    "name": "ipython",
    "version": 3
   },
   "file_extension": ".py",
   "mimetype": "text/x-python",
   "name": "python",
   "nbconvert_exporter": "python",
   "pygments_lexer": "ipython3",
   "version": "3.10.8"
  }
 },
 "nbformat": 4,
 "nbformat_minor": 5
}
